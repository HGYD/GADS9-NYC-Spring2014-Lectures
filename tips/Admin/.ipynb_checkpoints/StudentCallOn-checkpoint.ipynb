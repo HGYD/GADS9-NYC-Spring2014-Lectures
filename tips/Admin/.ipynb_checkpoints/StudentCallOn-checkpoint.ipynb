{
 "metadata": {
  "name": "",
  "signature": "sha256:3822e7ca6dab62fccf18d19bef91a9dfe5d043d58cb8fa6c662bf75e054a351f"
 },
 "nbformat": 3,
 "nbformat_minor": 0,
 "worksheets": [
  {
   "cells": [
    {
     "cell_type": "code",
     "collapsed": false,
     "input": [
      "# Initialize\n",
      "students=(\"Dave,Sam,Ryan,Anastasia,Jon,Timothy,Deepti,Chris,julia,Carlo,Venus,Laila,Michael,Robert,Radu,David,Ariba,Rob,Justin\")\n",
      "import random\n",
      "students = students.split(\",\")\n",
      "notanswered=students\n",
      "\n",
      "def answer(x=notanswered):\n",
      "    if len(x) != 0:\n",
      "        new=random.sample(x,1)\n",
      "        print \"Current Student: \",new[0]\n",
      "        print \"\\n\"\n",
      "        x.remove(new[0])\n",
      "        print len(x),\"remaining Students: \",\"\\n\",', '.join(x)\n",
      "    else:\n",
      "        print(\"Everyone answered a question!\")\n",
      "    return(x)"
     ],
     "language": "python",
     "metadata": {},
     "outputs": [],
     "prompt_number": 25
    },
    {
     "cell_type": "code",
     "collapsed": false,
     "input": [
      "# Run\n",
      "notanswered=answer()"
     ],
     "language": "python",
     "metadata": {},
     "outputs": [
      {
       "output_type": "stream",
       "stream": "stdout",
       "text": [
        "Current Student:  Ryan\n",
        "\n",
        "\n",
        "19 remaining Students:  \n",
        "David, Sam, Anastasia, Jon, Timothy, Deepti, Chris, julia, Carlo, Venus, Laila, Danny, Michael, Robert, Radu, David, Ariba, Rob, Justin\n"
       ]
      }
     ],
     "prompt_number": 26
    }
   ],
   "metadata": {}
  }
 ]
}
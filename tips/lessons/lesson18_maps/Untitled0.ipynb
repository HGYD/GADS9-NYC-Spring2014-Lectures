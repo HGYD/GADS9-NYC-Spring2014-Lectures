{
 "metadata": {
  "name": "",
  "signature": "sha256:1b3bf3e9b7769edce005e8b3d03536aaddf5b7070ac6df80ecc8e3fba8882a5e"
 },
 "nbformat": 3,
 "nbformat_minor": 0,
 "worksheets": [
  {
   "cells": [
    {
     "cell_type": "code",
     "collapsed": false,
     "input": [
      "%load ourmap.html"
     ],
     "language": "python",
     "metadata": {},
     "outputs": [],
     "prompt_number": 1
    },
    {
     "cell_type": "code",
     "collapsed": false,
     "input": [
      "<!DOCTYPE html>\n",
      "<head>\n",
      "   <link rel=\"stylesheet\" href=\"http://cdn.leafletjs.com/leaflet-0.5/leaflet.css\" />\n",
      "   <script src=\"http://cdn.leafletjs.com/leaflet-0.5/leaflet.js\"></script>\n",
      "   \n",
      "   \n",
      "   \n",
      "   \n",
      "\n",
      "\n",
      "<style>\n",
      "\n",
      "#map {\n",
      "  position:absolute;\n",
      "  top:0;\n",
      "  bottom:0;\n",
      "  right:0;\n",
      "  left:0;\n",
      "}\n",
      "\n",
      "</style>\n",
      "</head>\n",
      "<body>\n",
      "\n",
      "        <div id=\"map\" style=\"width: 960px; height: 500px\"></div>\n",
      "\n",
      "<script>\n",
      "\n",
      "\n",
      "\n",
      "var map = L.map('map').setView([40.7400191, -73.9900873], 13);\n",
      "\n",
      "L.tileLayer('http://{s}.tile.stamen.com/toner/{z}/{x}/{y}.jpg', {\n",
      "    maxZoom: 18,\n",
      "    attribution: 'Map tiles by <a href=\"http://stamen.com\">Stamen Design</a>, under <a href=\"http://creativecommons.org/licenses/by/3.0\">CC BY 3.0</a>. Data by <a href=\"http://openstreetmap.org\">OpenStreetMap</a>, under <a href=\"http://creativecommons.org/licenses/by-sa/3.0\">CC BY SA</a>.'\n",
      "}).addTo(map);\n",
      "\n",
      "\n",
      "var circle_1 = L.circle([40.7400191, -73.9900873], 200, {\n",
      "                            color: 'black',\n",
      "                            fillColor: '#3186cc',\n",
      "                            fillOpacity: 0.5\n",
      "                            });\n",
      "circle_1.bindPopup(\"Pop Text\");\n",
      "map.addLayer(circle_1)\n",
      "\n",
      "\n",
      "\n",
      "\n",
      "\n",
      "\n",
      "</script>\n",
      "\n",
      "</body>"
     ],
     "language": "python",
     "metadata": {},
     "outputs": []
    }
   ],
   "metadata": {}
  }
 ]
}
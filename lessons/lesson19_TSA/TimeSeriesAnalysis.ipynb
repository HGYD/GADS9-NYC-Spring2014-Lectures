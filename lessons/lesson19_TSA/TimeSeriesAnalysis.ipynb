{
 "metadata": {
  "name": "",
  "signature": "sha256:653d55e6e99935fc1ecf67d56beff2054c1484f885ca371909d586645f4e104a"
 },
 "nbformat": 3,
 "nbformat_minor": 0,
 "worksheets": [
  {
   "cells": [
    {
     "cell_type": "markdown",
     "metadata": {
      "slideshow": {
       "slide_type": "-"
      }
     },
     "source": [
      "#Time Series Analysis"
     ]
    },
    {
     "cell_type": "markdown",
     "metadata": {
      "slideshow": {
       "slide_type": "-"
      }
     },
     "source": [
      " \"Prediction is very difficult, especially if it's about the future.\" -- Nils Bohr\n",
      "\n",
      "\u201cExperience with real-world data, however, soon convinces one\n",
      "that both stationarity and Gaussianity are fairy tales invented\n",
      "for the amusement of undergraduates.\u201d\n",
      "--Thomson\n",
      "\n",
      "\u201cAll models are wrong. Some models are useful\u201d --Box\n",
      "\n"
     ]
    },
    {
     "cell_type": "markdown",
     "metadata": {},
     "source": [
      "### Time Series Data\n",
      "* Anything that is observed or measured at many points in time fors a time series.\n",
      "* Time series include:\n",
      "    * _Timestamps_, specific instants in time\n",
      "    * _Fixed periods_, i.e. the month of August 2014\n",
      "    * _Intervals_, indicated by a start and end timestamp.\n",
      "    * _Elapsed Time_, A measure relative to a given start time.\n",
      "    \n",
      " \n",
      "    \n"
     ]
    },
    {
     "cell_type": "markdown",
     "metadata": {},
     "source": [
      "### Ways that Pandas Handles Time Series Data\n",
      "* __Types__: date, time, datetime, timedelta\n",
      "* __String Parsing__\n",
      "* __Date ranges, frequencies and shifting__\n",
      "* __Resampling__\n",
      "* __Time Zone Awareness__\n",
      "* __Plotting and Moving Window Functions__\n",
      "\n",
      "\n",
      "   _source: Python for Data Analysis_"
     ]
    },
    {
     "cell_type": "markdown",
     "metadata": {},
     "source": [
      "### Basic Objectives of Time Series Analysis \n",
      "_([source](https://onlinecourses.science.psu.edu/stat510/?q=node/47))_\n",
      "\n",
      "* The basic objective usually is to determine a model that describes the pattern of the time series.  Uses for such a model are:\n",
      "    * To describe the important features of the time series pattern.\n",
      "    * To explain how the past affects the future or how two time series can \u201cinteract\u201d.\n",
      "    * To forecast future values of the series.\n",
      "    * To possible serve as a control standard for a variable that measures the quality of product in some manufacturing situations."
     ]
    },
    {
     "cell_type": "markdown",
     "metadata": {},
     "source": [
      "### Types of Models, MA, AR and ARMA\n",
      "\n"
     ]
    },
    {
     "cell_type": "markdown",
     "metadata": {},
     "source": [
      "###Important Characteristics to Consider First\n",
      "\n",
      "Some important questions to first consider when first looking at a time series are:\n",
      "\n",
      "* Is there a trend, meaning that, on average, the measurements tend to increase (or decrease) over time?\n",
      "* Is there seasonality, meaning that there is a regularly repeating pattern of highs and lows related to calendar time such as seasons, quarters, months, days of the week, and so on?\n",
      "* Are their outliers? In regression, outliers are far away from your line. With time series data, your outliers are far away from your other data.\n",
      "* Is there a long-run cycle or period unrelated to seasonality factors?\n",
      "* Is there constant varianceover time, or is the variance non-constant?\n",
      "* Are there any abrupt changes to either the level of the series or the variance?"
     ]
    },
    {
     "cell_type": "markdown",
     "metadata": {},
     "source": [
      "Statistical stationarity: A stationary time series is one whose statistical properties such as mean, variance, autocorrelation, etc. are all constant over time."
     ]
    },
    {
     "cell_type": "markdown",
     "metadata": {},
     "source": [
      "### Resources\n",
      "\n",
      "| Title | Description |\n",
      "| ----- | ----------- |\n",
      "| [Three Hour Time Seres in Pandas Video by Wes McKinney](https://www.youtube.com/watch?v=0unf-C-pBYE) | Wes wrote Pandas.  And the book on Pandas. |\n",
      "| [Time Series with Pandas](http://nbviewer.ipython.org/github/changhiskhan/talks/blob/master/pydata2012/pandas_timeseries.ipynb) | PYNB given at at a pycon |\n",
      "| [Pandas Time Series Docs](http://pandas.pydata.org/pandas-docs/stable/timeseries.html#time-series-date-functionality) | Extensive docs with examples on Pandas ts functionality |\n",
      "| [PyData Financial Analysis](http://www.hilpisch.com/YH_PyData_Eurex_Tutorial.html#/8/1) | Notebook with Eurex examples\n",
      "| [Twiecki's Financial Analysis Tutorial - Google Trends](http://nbviewer.ipython.org/github/twiecki/financial-analysis-python-tutorial/tree/master/) replicates google trends trading strategy in pandas, with backtest via zipline |\n",
      "| [StatsModels TSA Documentation](http://statsmodels.sourceforge.net/devel/tsa.html) | Docs for the extensive sm package for use with scipy |\n",
      "| [Python for Data Analysis](http://shop.oreilly.com/product/0636920023784.do) | Pages 289 to 327 deal with Time Series |\n",
      "| [Auto Correlation Plots Explained](http://www.itl.nist.gov/div898/handbook/eda/section3/autocopl.htm) | |\n",
      "| [Stat 510: Applied Time Series Analysis](https://onlinecourses.science.psu.edu/stat510/) | Overview of core concepts with examples in R in 14 lessons|\n",
      "| [StatsModels Slides](http://conference.scipy.org/scipy2011/slides/mckinney_time_series.pdf) | SciPy2011 Deck |\n",
      "| [Ben Lambert's Time Series Videos](https://www.youtube.com/watch?v=v70-kLB3BLM)| Kahn Style, many topics in tsa. |\n",
      "| [Financial Forecasting](http://www.quantstart.com/articles/Forecasting-Financial-Time-Series-Part-1) | Great series of articles on forecasting with Python from QuantStart |\n",
      "| [Time Series Chapter](http://zoonek2.free.fr/UNIX/48_R/15.html) | Excellent, lengthy, questionably-legal, time-series chapter with examples and graphs |\n",
      "\n",
      "\t\t\t"
     ]
    }
   ],
   "metadata": {}
  }
 ]
}
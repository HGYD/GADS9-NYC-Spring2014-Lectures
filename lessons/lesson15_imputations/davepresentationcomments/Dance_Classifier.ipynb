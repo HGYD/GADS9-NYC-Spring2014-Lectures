{
 "metadata": {
  "name": "",
  "signature": "sha256:9fde5ec0346cbaf478e59fa64602795e05db3bedc738a2a1d1a39fffffd6f02f"
 },
 "nbformat": 3,
 "nbformat_minor": 0,
 "worksheets": [
  {
   "cells": [
    {
     "cell_type": "raw",
     "metadata": {},
     "source": [
      "# TODO: \n",
      "# Do a frequency analysis of each data set\n",
      "# Combine the data sets\n",
      "# Note the top 200 common word occurences\n",
      "# Remove this top list of stop words\n",
      "# Try Bi-grams for classificiation"
     ]
    },
    {
     "cell_type": "code",
     "collapsed": false,
     "input": [
      "import nltk.classify.util\n",
      "from nltk.classify import NaiveBayesClassifier\n",
      "from nltk import tokenize\n",
      "import os\n",
      "from nltk.corpus import stopwords\n",
      "import re\n",
      "            \n",
      "from collections import Counter\n",
      "from itertools import chain"
     ],
     "language": "python",
     "metadata": {},
     "outputs": [],
     "prompt_number": 1
    },
    {
     "cell_type": "code",
     "collapsed": false,
     "input": [
      "nltk.download()"
     ],
     "language": "python",
     "metadata": {},
     "outputs": [
      {
       "output_type": "stream",
       "stream": "stdout",
       "text": [
        "showing info http://nltk.github.com/nltk_data/\n"
       ]
      },
      {
       "metadata": {},
       "output_type": "pyout",
       "prompt_number": 2,
       "text": [
        "True"
       ]
      }
     ],
     "prompt_number": 2
    },
    {
     "cell_type": "heading",
     "level": 3,
     "metadata": {},
     "source": [
      "Utility Functions for loading, processing, munging, removing stop words."
     ]
    },
    {
     "cell_type": "code",
     "collapsed": false,
     "input": [
      "stop = stopwords.words('english')\n",
      "def is_stop_word(word):\n",
      "    if len(word)<=2: return True\n",
      "    if contains_digits(word): return True               \n",
      "    if word.lower() in stop:return True\n",
      "    else:return False"
     ],
     "language": "python",
     "metadata": {},
     "outputs": [],
     "prompt_number": 3
    },
    {
     "cell_type": "code",
     "collapsed": false,
     "input": [
      "def munge_word(word):\n",
      "    munge_list = [ \".\", \":\", \"\", \"?\", \",\", \"'\",\"(\", \")\", \"),\",\"[\", \"]\" , \"\\\"\", \"-\", \"&\"]\n",
      "    for l in munge_list:\n",
      "        if l in word:\n",
      "            word = word.strip(l)         \n",
      "    word = unicode(word, 'ascii', 'ignore')\n",
      "    return word"
     ],
     "language": "python",
     "metadata": {},
     "outputs": [],
     "prompt_number": 4
    },
    {
     "cell_type": "code",
     "collapsed": false,
     "input": [
      "_digits = re.compile('\\d')\n",
      "def contains_digits(d):\n",
      "    return bool(_digits.search(d))"
     ],
     "language": "python",
     "metadata": {},
     "outputs": [],
     "prompt_number": 5
    },
    {
     "cell_type": "code",
     "collapsed": false,
     "input": [
      "all_words = nltk.FreqDist(w.lower() for w in dance_train_list)\n",
      "word_features = all_words.keys()[:2000]"
     ],
     "language": "python",
     "metadata": {},
     "outputs": [
      {
       "ename": "NameError",
       "evalue": "name 'dance_train_list' is not defined",
       "output_type": "pyerr",
       "traceback": [
        "\u001b[0;31m---------------------------------------------------------------------------\u001b[0m\n\u001b[0;31mNameError\u001b[0m                                 Traceback (most recent call last)",
        "\u001b[0;32m<ipython-input-7-1f9f599f1a17>\u001b[0m in \u001b[0;36m<module>\u001b[0;34m()\u001b[0m\n\u001b[0;32m----> 1\u001b[0;31m \u001b[0mall_words\u001b[0m \u001b[0;34m=\u001b[0m \u001b[0mnltk\u001b[0m\u001b[0;34m.\u001b[0m\u001b[0mFreqDist\u001b[0m\u001b[0;34m(\u001b[0m\u001b[0mw\u001b[0m\u001b[0;34m.\u001b[0m\u001b[0mlower\u001b[0m\u001b[0;34m(\u001b[0m\u001b[0;34m)\u001b[0m \u001b[0;32mfor\u001b[0m \u001b[0mw\u001b[0m \u001b[0;32min\u001b[0m \u001b[0mdance_train_list\u001b[0m\u001b[0;34m)\u001b[0m\u001b[0;34m\u001b[0m\u001b[0m\n\u001b[0m\u001b[1;32m      2\u001b[0m \u001b[0mword_features\u001b[0m \u001b[0;34m=\u001b[0m \u001b[0mall_words\u001b[0m\u001b[0;34m.\u001b[0m\u001b[0mkeys\u001b[0m\u001b[0;34m(\u001b[0m\u001b[0;34m)\u001b[0m\u001b[0;34m[\u001b[0m\u001b[0;34m:\u001b[0m\u001b[0;36m2000\u001b[0m\u001b[0;34m]\u001b[0m\u001b[0;34m\u001b[0m\u001b[0m\n",
        "\u001b[0;31mNameError\u001b[0m: name 'dance_train_list' is not defined"
       ]
      }
     ],
     "prompt_number": 7
    },
    {
     "cell_type": "raw",
     "metadata": {},
     "source": [
      "function load_data():\n",
      "This function loads the files from the disk and splits the words into tokens.\n",
      "    Input : \n",
      "            data_dir - The directory where your data files are\n",
      "            word_count - The max number of words to read from each file\n",
      "            debug - The debug boolean for the function.\n",
      "    Output:\n",
      "            A dictionary with each dance name as the key, and the associated words as a list"
     ]
    },
    {
     "cell_type": "code",
     "collapsed": false,
     "input": [
      "def load_n_process_data( data_dir, word_limit= 7000, feature_limit=500, debug=False ):\n",
      "    \n",
      "    dance_train_data = {}\n",
      "    \n",
      "    for dance_file in os.listdir( data_dir ):\n",
      "        dance_name_label = str.split(dance_file,\".\")[0]\n",
      "        dance_train_list = []\n",
      "        f = open(data_dir + dance_file, 'r')\n",
      "        if debug == True:\n",
      "            print \"Reading file %s\" %f\n",
      "        \n",
      "        i = 0\n",
      "        for line in f:\n",
      "            for word in line.split():\n",
      "                i+=1\n",
      "                if i == word_limit:break\n",
      "                clean_word = munge_word(word)\n",
      "               \n",
      "                if not is_stop_word(clean_word):\n",
      "                    dance_train_list.append (clean_word)\n",
      "            if i == word_limit:break\n",
      "        \n",
      "        all_words = nltk.FreqDist(w.lower() for w in dance_train_list)\n",
      "        word_features = all_words.keys()[:feature_limit]\n",
      "        dance_train_data [ dance_name_label ] = word_features\n",
      "        \n",
      "        f.close()\n",
      "        \n",
      "    if debug == True:\n",
      "        for key, value in dance_train_data.items():\n",
      "            print \"------------------------------------------------------------------------------------------------------------------\"\n",
      "            print (key, len(value))\n",
      "            print value\n",
      "        \n",
      "    return dance_train_data"
     ],
     "language": "python",
     "metadata": {},
     "outputs": [],
     "prompt_number": 8
    },
    {
     "cell_type": "raw",
     "metadata": {},
     "source": [
      "function remove_common_words():\n",
      "This function combines all the lists from the various dance forms and removes the common elements, while preserving the dance label, dance feature format.\n",
      "    Input : Dance forms data dictionary. Format: dance label, dance feature list\n",
      "    Output : Dance forms data dictionary. Format: dance label, dance feature list"
     ]
    },
    {
     "cell_type": "code",
     "collapsed": false,
     "input": [
      "def remove_common_words(dance_data_dict, debug=False):\n",
      "    temp_list =[]\n",
      "    for l in dance_data_dict.values():\n",
      "        temp_list.append(l)\n",
      "    \n",
      "    counts = Counter(chain(*map(set,temp_list)))\n",
      "    temp_list = [[i for i in sub_list if counts[i]==1] for sub_list in temp_list]\n",
      "    \n",
      "    i=0\n",
      "    for key in dance_data_dict.keys():\n",
      "    #print \"len = %d\" % len(dance_train_list[i])\n",
      "        dance_data_dict[key] = temp_list[i]\n",
      "        i+=1\n",
      "    return dance_data_dict "
     ],
     "language": "python",
     "metadata": {},
     "outputs": [],
     "prompt_number": 11
    },
    {
     "cell_type": "heading",
     "level": 3,
     "metadata": {},
     "source": [
      "Loading and Processing Dance Training Data Sets"
     ]
    },
    {
     "cell_type": "code",
     "collapsed": false,
     "input": [
      "dance_train_dir = \"/Users/deeps/ds_playground/class_stuff/dance_classifier/train/\"\n",
      "dance_train_dict = load_n_process_data(dance_train_dir, debug=True)\n",
      "dance_train_dict = remove_common_words(dance_train_dict)\n",
      "\n",
      "#print dance_train_dict"
     ],
     "language": "python",
     "metadata": {},
     "outputs": [
      {
       "ename": "OSError",
       "evalue": "[Errno 2] No such file or directory: '/Users/deeps/ds_playground/class_stuff/dance_classifier/train/'",
       "output_type": "pyerr",
       "traceback": [
        "\u001b[0;31m---------------------------------------------------------------------------\u001b[0m\n\u001b[0;31mOSError\u001b[0m                                   Traceback (most recent call last)",
        "\u001b[0;32m<ipython-input-12-81363ccc03d8>\u001b[0m in \u001b[0;36m<module>\u001b[0;34m()\u001b[0m\n\u001b[1;32m      1\u001b[0m \u001b[0mdance_train_dir\u001b[0m \u001b[0;34m=\u001b[0m \u001b[0;34m\"/Users/deeps/ds_playground/class_stuff/dance_classifier/train/\"\u001b[0m\u001b[0;34m\u001b[0m\u001b[0m\n\u001b[0;32m----> 2\u001b[0;31m \u001b[0mdance_train_dict\u001b[0m \u001b[0;34m=\u001b[0m \u001b[0mload_n_process_data\u001b[0m\u001b[0;34m(\u001b[0m\u001b[0mdance_train_dir\u001b[0m\u001b[0;34m,\u001b[0m \u001b[0mdebug\u001b[0m\u001b[0;34m=\u001b[0m\u001b[0mTrue\u001b[0m\u001b[0;34m)\u001b[0m\u001b[0;34m\u001b[0m\u001b[0m\n\u001b[0m\u001b[1;32m      3\u001b[0m \u001b[0mdance_train_dict\u001b[0m \u001b[0;34m=\u001b[0m \u001b[0mremove_common_words\u001b[0m\u001b[0;34m(\u001b[0m\u001b[0mdance_train_dict\u001b[0m\u001b[0;34m)\u001b[0m\u001b[0;34m\u001b[0m\u001b[0m\n\u001b[1;32m      4\u001b[0m \u001b[0;34m\u001b[0m\u001b[0m\n\u001b[1;32m      5\u001b[0m \u001b[0;31m#print dance_train_dict\u001b[0m\u001b[0;34m\u001b[0m\u001b[0;34m\u001b[0m\u001b[0m\n",
        "\u001b[0;32m<ipython-input-8-67d370fc6d96>\u001b[0m in \u001b[0;36mload_n_process_data\u001b[0;34m(data_dir, word_limit, feature_limit, debug)\u001b[0m\n\u001b[1;32m      3\u001b[0m     \u001b[0mdance_train_data\u001b[0m \u001b[0;34m=\u001b[0m \u001b[0;34m{\u001b[0m\u001b[0;34m}\u001b[0m\u001b[0;34m\u001b[0m\u001b[0m\n\u001b[1;32m      4\u001b[0m \u001b[0;34m\u001b[0m\u001b[0m\n\u001b[0;32m----> 5\u001b[0;31m     \u001b[0;32mfor\u001b[0m \u001b[0mdance_file\u001b[0m \u001b[0;32min\u001b[0m \u001b[0mos\u001b[0m\u001b[0;34m.\u001b[0m\u001b[0mlistdir\u001b[0m\u001b[0;34m(\u001b[0m \u001b[0mdata_dir\u001b[0m \u001b[0;34m)\u001b[0m\u001b[0;34m:\u001b[0m\u001b[0;34m\u001b[0m\u001b[0m\n\u001b[0m\u001b[1;32m      6\u001b[0m         \u001b[0mdance_name_label\u001b[0m \u001b[0;34m=\u001b[0m \u001b[0mstr\u001b[0m\u001b[0;34m.\u001b[0m\u001b[0msplit\u001b[0m\u001b[0;34m(\u001b[0m\u001b[0mdance_file\u001b[0m\u001b[0;34m,\u001b[0m\u001b[0;34m\".\"\u001b[0m\u001b[0;34m)\u001b[0m\u001b[0;34m[\u001b[0m\u001b[0;36m0\u001b[0m\u001b[0;34m]\u001b[0m\u001b[0;34m\u001b[0m\u001b[0m\n\u001b[1;32m      7\u001b[0m         \u001b[0mdance_train_list\u001b[0m \u001b[0;34m=\u001b[0m \u001b[0;34m[\u001b[0m\u001b[0;34m]\u001b[0m\u001b[0;34m\u001b[0m\u001b[0m\n",
        "\u001b[0;31mOSError\u001b[0m: [Errno 2] No such file or directory: '/Users/deeps/ds_playground/class_stuff/dance_classifier/train/'"
       ]
      }
     ],
     "prompt_number": 12
    },
    {
     "cell_type": "heading",
     "level": 3,
     "metadata": {},
     "source": [
      "Loading and Processing Dance Test Data Sets"
     ]
    },
    {
     "cell_type": "code",
     "collapsed": false,
     "input": [
      "dance_test_dir = \"/Users/deeps/ds_playground/class_stuff/dance_classifier/test/\"\n",
      "dance_test_dict = load_n_process_data(dance_test_dir, feature_limit=100, debug=True)\n",
      "dance_test_dict = remove_common_words(dance_test_dict)\n",
      "\n",
      "#print dance_test_dict"
     ],
     "language": "python",
     "metadata": {},
     "outputs": [
      {
       "ename": "OSError",
       "evalue": "[Errno 2] No such file or directory: '/Users/deeps/ds_playground/class_stuff/dance_classifier/test/'",
       "output_type": "pyerr",
       "traceback": [
        "\u001b[0;31m---------------------------------------------------------------------------\u001b[0m\n\u001b[0;31mOSError\u001b[0m                                   Traceback (most recent call last)",
        "\u001b[0;32m<ipython-input-13-c7d4732ac517>\u001b[0m in \u001b[0;36m<module>\u001b[0;34m()\u001b[0m\n\u001b[1;32m      1\u001b[0m \u001b[0mdance_test_dir\u001b[0m \u001b[0;34m=\u001b[0m \u001b[0;34m\"/Users/deeps/ds_playground/class_stuff/dance_classifier/test/\"\u001b[0m\u001b[0;34m\u001b[0m\u001b[0m\n\u001b[0;32m----> 2\u001b[0;31m \u001b[0mdance_test_dict\u001b[0m \u001b[0;34m=\u001b[0m \u001b[0mload_n_process_data\u001b[0m\u001b[0;34m(\u001b[0m\u001b[0mdance_test_dir\u001b[0m\u001b[0;34m,\u001b[0m \u001b[0mfeature_limit\u001b[0m\u001b[0;34m=\u001b[0m\u001b[0;36m100\u001b[0m\u001b[0;34m,\u001b[0m \u001b[0mdebug\u001b[0m\u001b[0;34m=\u001b[0m\u001b[0mTrue\u001b[0m\u001b[0;34m)\u001b[0m\u001b[0;34m\u001b[0m\u001b[0m\n\u001b[0m\u001b[1;32m      3\u001b[0m \u001b[0mdance_test_dict\u001b[0m \u001b[0;34m=\u001b[0m \u001b[0mremove_common_words\u001b[0m\u001b[0;34m(\u001b[0m\u001b[0mdance_test_dict\u001b[0m\u001b[0;34m)\u001b[0m\u001b[0;34m\u001b[0m\u001b[0m\n\u001b[1;32m      4\u001b[0m \u001b[0;34m\u001b[0m\u001b[0m\n\u001b[1;32m      5\u001b[0m \u001b[0;31m#print dance_test_dict\u001b[0m\u001b[0;34m\u001b[0m\u001b[0;34m\u001b[0m\u001b[0m\n",
        "\u001b[0;32m<ipython-input-8-67d370fc6d96>\u001b[0m in \u001b[0;36mload_n_process_data\u001b[0;34m(data_dir, word_limit, feature_limit, debug)\u001b[0m\n\u001b[1;32m      3\u001b[0m     \u001b[0mdance_train_data\u001b[0m \u001b[0;34m=\u001b[0m \u001b[0;34m{\u001b[0m\u001b[0;34m}\u001b[0m\u001b[0;34m\u001b[0m\u001b[0m\n\u001b[1;32m      4\u001b[0m \u001b[0;34m\u001b[0m\u001b[0m\n\u001b[0;32m----> 5\u001b[0;31m     \u001b[0;32mfor\u001b[0m \u001b[0mdance_file\u001b[0m \u001b[0;32min\u001b[0m \u001b[0mos\u001b[0m\u001b[0;34m.\u001b[0m\u001b[0mlistdir\u001b[0m\u001b[0;34m(\u001b[0m \u001b[0mdata_dir\u001b[0m \u001b[0;34m)\u001b[0m\u001b[0;34m:\u001b[0m\u001b[0;34m\u001b[0m\u001b[0m\n\u001b[0m\u001b[1;32m      6\u001b[0m         \u001b[0mdance_name_label\u001b[0m \u001b[0;34m=\u001b[0m \u001b[0mstr\u001b[0m\u001b[0;34m.\u001b[0m\u001b[0msplit\u001b[0m\u001b[0;34m(\u001b[0m\u001b[0mdance_file\u001b[0m\u001b[0;34m,\u001b[0m\u001b[0;34m\".\"\u001b[0m\u001b[0;34m)\u001b[0m\u001b[0;34m[\u001b[0m\u001b[0;36m0\u001b[0m\u001b[0;34m]\u001b[0m\u001b[0;34m\u001b[0m\u001b[0m\n\u001b[1;32m      7\u001b[0m         \u001b[0mdance_train_list\u001b[0m \u001b[0;34m=\u001b[0m \u001b[0;34m[\u001b[0m\u001b[0;34m]\u001b[0m\u001b[0;34m\u001b[0m\u001b[0m\n",
        "\u001b[0;31mOSError\u001b[0m: [Errno 2] No such file or directory: '/Users/deeps/ds_playground/class_stuff/dance_classifier/test/'"
       ]
      }
     ],
     "prompt_number": 13
    },
    {
     "cell_type": "heading",
     "level": 3,
     "metadata": {},
     "source": [
      "Create Bag of Words Features for Training and Test dance data sets"
     ]
    },
    {
     "cell_type": "code",
     "collapsed": false,
     "input": [
      "def bag_of_words(words):\n",
      "    return dict([(word, True) for word in words])"
     ],
     "language": "python",
     "metadata": {},
     "outputs": [],
     "prompt_number": 14
    },
    {
     "cell_type": "code",
     "collapsed": false,
     "input": [
      "def create_features(dance_dict):\n",
      "    feature_list = []\n",
      "    for key, value in dance_dict.items():\n",
      "        feature_list += [(bag_of_words(value), key)]\n",
      "    return feature_list"
     ],
     "language": "python",
     "metadata": {},
     "outputs": [],
     "prompt_number": 15
    },
    {
     "cell_type": "code",
     "collapsed": false,
     "input": [
      "dance_train_feature_list = create_features(dance_train_dict)\n",
      "dance_test_feature_list = create_features(dance_test_dict)\n",
      "#print dance_train_feature_list\n",
      "#print \"-----------------------------------------------------------------------------------------------------------------------------\"\n",
      "#print dance_test_feature_list"
     ],
     "language": "python",
     "metadata": {},
     "outputs": [
      {
       "ename": "NameError",
       "evalue": "name 'dance_train_dict' is not defined",
       "output_type": "pyerr",
       "traceback": [
        "\u001b[0;31m---------------------------------------------------------------------------\u001b[0m\n\u001b[0;31mNameError\u001b[0m                                 Traceback (most recent call last)",
        "\u001b[0;32m<ipython-input-16-e522bdf6a7af>\u001b[0m in \u001b[0;36m<module>\u001b[0;34m()\u001b[0m\n\u001b[0;32m----> 1\u001b[0;31m \u001b[0mdance_train_feature_list\u001b[0m \u001b[0;34m=\u001b[0m \u001b[0mcreate_features\u001b[0m\u001b[0;34m(\u001b[0m\u001b[0mdance_train_dict\u001b[0m\u001b[0;34m)\u001b[0m\u001b[0;34m\u001b[0m\u001b[0m\n\u001b[0m\u001b[1;32m      2\u001b[0m \u001b[0mdance_test_feature_list\u001b[0m \u001b[0;34m=\u001b[0m \u001b[0mcreate_features\u001b[0m\u001b[0;34m(\u001b[0m\u001b[0mdance_test_dict\u001b[0m\u001b[0;34m)\u001b[0m\u001b[0;34m\u001b[0m\u001b[0m\n\u001b[1;32m      3\u001b[0m \u001b[0;31m#print dance_train_feature_list\u001b[0m\u001b[0;34m\u001b[0m\u001b[0;34m\u001b[0m\u001b[0m\n\u001b[1;32m      4\u001b[0m \u001b[0;31m#print \"-----------------------------------------------------------------------------------------------------------------------------\"\u001b[0m\u001b[0;34m\u001b[0m\u001b[0;34m\u001b[0m\u001b[0m\n\u001b[1;32m      5\u001b[0m \u001b[0;31m#print dance_test_feature_list\u001b[0m\u001b[0;34m\u001b[0m\u001b[0;34m\u001b[0m\u001b[0m\n",
        "\u001b[0;31mNameError\u001b[0m: name 'dance_train_dict' is not defined"
       ]
      }
     ],
     "prompt_number": 16
    },
    {
     "cell_type": "code",
     "collapsed": false,
     "input": [
      "nb_cls = NaiveBayesClassifier.train(dance_train_feature_list)"
     ],
     "language": "python",
     "metadata": {},
     "outputs": [
      {
       "ename": "NameError",
       "evalue": "name 'dance_train_feature_list' is not defined",
       "output_type": "pyerr",
       "traceback": [
        "\u001b[0;31m---------------------------------------------------------------------------\u001b[0m\n\u001b[0;31mNameError\u001b[0m                                 Traceback (most recent call last)",
        "\u001b[0;32m<ipython-input-17-90722c6517f0>\u001b[0m in \u001b[0;36m<module>\u001b[0;34m()\u001b[0m\n\u001b[0;32m----> 1\u001b[0;31m \u001b[0mnb_cls\u001b[0m \u001b[0;34m=\u001b[0m \u001b[0mNaiveBayesClassifier\u001b[0m\u001b[0;34m.\u001b[0m\u001b[0mtrain\u001b[0m\u001b[0;34m(\u001b[0m\u001b[0mdance_train_feature_list\u001b[0m\u001b[0;34m)\u001b[0m\u001b[0;34m\u001b[0m\u001b[0m\n\u001b[0m",
        "\u001b[0;31mNameError\u001b[0m: name 'dance_train_feature_list' is not defined"
       ]
      }
     ],
     "prompt_number": 17
    },
    {
     "cell_type": "heading",
     "level": 3,
     "metadata": {},
     "source": [
      "Accuracy Score for Classifier"
     ]
    },
    {
     "cell_type": "code",
     "collapsed": false,
     "input": [
      "nltk.classify.util."
     ],
     "language": "python",
     "metadata": {},
     "outputs": []
    },
    {
     "cell_type": "code",
     "collapsed": false,
     "input": [
      "print 'accuracy:', nltk.classify.util.accuracy( nb_cls, dance_test_feature_list)"
     ],
     "language": "python",
     "metadata": {},
     "outputs": [
      {
       "output_type": "stream",
       "stream": "stdout",
       "text": [
        "accuracy:"
       ]
      },
      {
       "ename": "NameError",
       "evalue": "name 'nb_cls' is not defined",
       "output_type": "pyerr",
       "traceback": [
        "\u001b[0;31m---------------------------------------------------------------------------\u001b[0m\n\u001b[0;31mNameError\u001b[0m                                 Traceback (most recent call last)",
        "\u001b[0;32m<ipython-input-18-5f83a465ed35>\u001b[0m in \u001b[0;36m<module>\u001b[0;34m()\u001b[0m\n\u001b[0;32m----> 1\u001b[0;31m \u001b[0;32mprint\u001b[0m \u001b[0;34m'accuracy:'\u001b[0m\u001b[0;34m,\u001b[0m \u001b[0mnltk\u001b[0m\u001b[0;34m.\u001b[0m\u001b[0mclassify\u001b[0m\u001b[0;34m.\u001b[0m\u001b[0mutil\u001b[0m\u001b[0;34m.\u001b[0m\u001b[0maccuracy\u001b[0m\u001b[0;34m(\u001b[0m \u001b[0mnb_cls\u001b[0m\u001b[0;34m,\u001b[0m \u001b[0mdance_test_feature_list\u001b[0m\u001b[0;34m)\u001b[0m\u001b[0;34m\u001b[0m\u001b[0m\n\u001b[0m",
        "\u001b[0;31mNameError\u001b[0m: name 'nb_cls' is not defined"
       ]
      }
     ],
     "prompt_number": 18
    },
    {
     "cell_type": "heading",
     "level": 3,
     "metadata": {},
     "source": [
      "Showing Most Informative Features"
     ]
    },
    {
     "cell_type": "code",
     "collapsed": false,
     "input": [
      "nb_cls.show_most_informative_features()"
     ],
     "language": "python",
     "metadata": {},
     "outputs": [
      {
       "ename": "NameError",
       "evalue": "name 'nb_cls' is not defined",
       "output_type": "pyerr",
       "traceback": [
        "\u001b[0;31m---------------------------------------------------------------------------\u001b[0m\n\u001b[0;31mNameError\u001b[0m                                 Traceback (most recent call last)",
        "\u001b[0;32m<ipython-input-19-de69da8316b2>\u001b[0m in \u001b[0;36m<module>\u001b[0;34m()\u001b[0m\n\u001b[0;32m----> 1\u001b[0;31m \u001b[0mnb_cls\u001b[0m\u001b[0;34m.\u001b[0m\u001b[0mshow_most_informative_features\u001b[0m\u001b[0;34m(\u001b[0m\u001b[0;34m)\u001b[0m\u001b[0;34m\u001b[0m\u001b[0m\n\u001b[0m",
        "\u001b[0;31mNameError\u001b[0m: name 'nb_cls' is not defined"
       ]
      }
     ],
     "prompt_number": 19
    },
    {
     "cell_type": "raw",
     "metadata": {},
     "source": [
      "TODO:\n",
      "Make a function around this - so you can read and classify texts from any file."
     ]
    },
    {
     "cell_type": "raw",
     "metadata": {},
     "source": [
      "classify_hiphop = \"The older dance styles that were created in the 1970s include uprock, breaking, and the funk styles.\\\n",
      "Breaking was created in The Bronx, New York, incorporating dances that were popular in the 1960s and early 1970s in \\\n",
      "African-American and Latino communities\"\n",
      "\n",
      "classify_bellydance = \"In order to move a part of your body in one direction, first move it in the opposite direction. E.g. \\\n",
      "If you are trying to do a hip drop, first lift that hip slightly to do the drop. This give you the space your need to \\\n",
      "create the movement, which will help you create a bigger, fuller and more juicy movement.\"\n",
      "\n",
      "classify_hula = \"while Hawaiians composed and performed chant and mele (songs) alone, hula has never been danced without \\\n",
      "verbal accompaniment. In ancient times, the chant remained the primary focus with the dance adapted to enhance the chant. \\\n",
      "Fluid gestures added grace to the dance but did not necessarily mirror the chant's words in a sort of visual sign language. \\\n",
      "The deeply metaphoric nature of Hawaiian language left ample room for multiple interpretations.\"\n",
      "\n",
      "classify_bharatanatyam = \"The dance journey of this illustrious artist commenced at the age of six under the guidance of \\\n",
      "Guru Mahalingam Pillai of the Raja Rajeshwari Dance Academy in Mumbai. Her debut performance was at the age of nine at the \\\n",
      "Asthika Samajam, Mumbai to an audience of over a thousand. She continued her artistic endeavor under the tutelage of world \\\n",
      "renowned gurus Padmabhushan VP Dhananjayan, Shanta Dhananjayan, and Padmashree Adyar K. Laxman in Chennai. The Cultural \\\n",
      "Ministry of the Government of India recognized the spark of excellence in the young ten year old and supported her with \\\n",
      "scholarships to pursue her training for the next decade. The effortlessness and grace that are a hallmark of Savitha's \\\n",
      "performances emanate from a disciplined practice of Yoga. She has received specialized training in abhinaya (facial expressions) \\\n",
      "from workshops and classes conducted by Smt. Kalanidhi Narayan\""
     ]
    },
    {
     "cell_type": "heading",
     "level": 3,
     "metadata": {},
     "source": [
      "Loading and Processing Dance Classification Data Sets"
     ]
    },
    {
     "cell_type": "code",
     "collapsed": false,
     "input": [
      "dance_classify_dir = \"/Users/deeps/ds_playground/class_stuff/dance_classifier/classify/\"\n",
      "dance_classify_dict = load_n_process_data(dance_classify_dir, debug=True)\n",
      "dance_classify_dict = remove_common_words(dance_classify_dict)"
     ],
     "language": "python",
     "metadata": {},
     "outputs": [
      {
       "output_type": "stream",
       "stream": "stdout",
       "text": [
        "Reading file <open file '/Users/deeps/ds_playground/class_stuff/dance_classifier/classify/bellydance.txt', mode 'r' at 0x105fad780>\n",
        "Reading file <open file '/Users/deeps/ds_playground/class_stuff/dance_classifier/classify/bharatanatyam.txt', mode 'r' at 0x106a855d0>\n",
        "Reading file <open file '/Users/deeps/ds_playground/class_stuff/dance_classifier/classify/hiphop.txt', mode 'r' at 0x105fad780>\n",
        "Reading file <open file '/Users/deeps/ds_playground/class_stuff/dance_classifier/classify/hula.txt', mode 'r' at 0x106a855d0>\n",
        "------------------------------------------------------------------------------------------------------------------\n",
        "('hula', 42)\n",
        "[u'chant', u'dance', u'language', u'accompaniment', u'adapted', u'added', u'alone', u'ample', u'ancient', u\"chant's\", u'composed', u'danced', u'deeply', u'enhance', u'fluid', u'focus', u'gestures', u'grace', u'hawaiian', u'hawaiians', u'hula', u'interpretations', u'left', u'mele', u'metaphoric', u'mirror', u'multiple', u'nature', u'necessarily', u'never', u'performed', u'primary', u'remained', u'room', u'sign', u'songs', u'sort', u'times', u'verbal', u'visual', u'without', u'words']\n",
        "------------------------------------------------------------------------------------------------------------------\n",
        "('hiphop', 18)\n",
        "[u'breaking', u'created', u'styles', u'african-american', u'bronx', u'communities', u'dance', u'dances', u'early', u'funk', u'include', u'incorporating', u'latino', u'new', u'older', u'popular', u'uprock', u'york']\n",
        "------------------------------------------------------------------------------------------------------------------\n",
        "('bharatanatyam', 73)\n",
        "[u'age', u'dance', u'dhananjayan', u'mumbai', u'training', u'abhinaya', u'academy', u'adyar', u'artist', u'artistic', u'asthika', u'audience', u'chennai', u'classes', u'commenced', u'conducted', u'continued', u'cultural', u'debut', u'decade', u'disciplined', u'effortlessness', u'emanate', u'endeavor', u'excellence', u'expressions', u'facial', u'government', u'grace', u'guidance', u'guru', u'gurus', u'hallmark', u'illustrious', u'india', u'journey', u'kalanidhi', u'laxman', u'mahalingam', u'ministry', u'narayan', u'next', u'nine', u'old', u'padmabhushan', u'padmashree', u'performance', u'performances', u'pillai', u'practice', u'pursue', u'raja', u'rajeshwari', u'received', u'recognized', u'renowned', u'samajam', u\"savitha's\", u'scholarships', u'shanta', u'six', u'smt', u'spark', u'specialized', u'supported', u'ten', u'thousand', u'tutelage', u'workshops', u'world', u'year', u'yoga', u'young']\n",
        "------------------------------------------------------------------------------------------------------------------\n",
        "('bellydance', 23)\n",
        "[u'create', u'direction', u'drop', u'first', u'hip', u'move', u'movement', u'bigger', u'body', u'e.g', u'fuller', u'give', u'help', u'juicy', u'lift', u'need', u'one', u'opposite', u'order', u'part', u'slightly', u'space', u'trying']\n"
       ]
      }
     ],
     "prompt_number": 144
    },
    {
     "cell_type": "heading",
     "level": 3,
     "metadata": {},
     "source": [
      "The Final step of Text classification"
     ]
    },
    {
     "cell_type": "code",
     "collapsed": false,
     "input": [
      "for key, value in dance_classify_dict.items():\n",
      "    print (\"Classifying text in %s as\" %(key)),\n",
      "    print nb_cls.classify(bag_of_words(value))"
     ],
     "language": "python",
     "metadata": {},
     "outputs": [
      {
       "output_type": "stream",
       "stream": "stdout",
       "text": [
        "Classifying text in hula as hula\n",
        "Classifying text in hiphop as hiphop\n",
        "Classifying text in bharatanatyam as bharatanatyam\n",
        "Classifying text in bellydance as bellydance\n"
       ]
      }
     ],
     "prompt_number": 145
    }
   ],
   "metadata": {}
  }
 ]
}
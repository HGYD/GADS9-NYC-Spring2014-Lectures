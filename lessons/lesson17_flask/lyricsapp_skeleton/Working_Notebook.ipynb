{
 "metadata": {
  "name": "",
  "signature": "sha256:bab8a134d532c1e97b31f059f15e27ba4c5d9ff350115251b64ad9dfb8bf36ef"
 },
 "nbformat": 3,
 "nbformat_minor": 0,
 "worksheets": [
  {
   "cells": [
    {
     "cell_type": "code",
     "collapsed": false,
     "input": [
      "%load schema.sql"
     ],
     "language": "python",
     "metadata": {},
     "outputs": [],
     "prompt_number": 3
    },
    {
     "cell_type": "code",
     "collapsed": false,
     "input": [
      "DROP TABLE IF EXISTS predictions;\n",
      "CREATE TABLE predictions (\n",
      "  id integer primary key autoincrement,\n",
      "  lyrics text not null,\n",
      "  artist text not null\n",
      ");\n"
     ],
     "language": "python",
     "metadata": {},
     "outputs": []
    }
   ],
   "metadata": {}
  }
 ]
}
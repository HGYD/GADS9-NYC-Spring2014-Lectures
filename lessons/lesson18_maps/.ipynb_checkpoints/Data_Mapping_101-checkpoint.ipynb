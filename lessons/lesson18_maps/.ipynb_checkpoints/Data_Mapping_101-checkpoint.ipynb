{
 "metadata": {
  "name": "",
  "signature": "sha256:6951ec04db6ed4e2a9efa7264a282abef9f358af3c25d06d2f1e4434471b8d19"
 },
 "nbformat": 3,
 "nbformat_minor": 0,
 "worksheets": [
  {
   "cells": [
    {
     "cell_type": "heading",
     "level": 1,
     "metadata": {},
     "source": [
      "Mapping Location Data and Chloropleths from Python"
     ]
    },
    {
     "cell_type": "markdown",
     "metadata": {},
     "source": [
      "We'll begin with the [Folium](https://folium.readthedocs.org) library as it brings together a number of current geotools together with the Pandas data wrangling paradigm we're familiar with.\n",
      "\n",
      "The tools employed include:\n",
      "* The [leaflet](http://leafletjs.com/) javascript library for interactive maps\n",
      "* Tilesets from [OpenStreetMap](openstreetmap.org), [Mapbox](https://www.mapbox.com/), [Stamen](stamen.com) and more.\n",
      "* Color schemes from [color-brewer](colorbrewer2.org)\n",
      "* Incorporation of D3 diagrams through [Vincent](http://vincent.readthedocs.org/en/latest/)\n",
      "\n",
      "Each of these tools should be reviewed in their own right, and many, as well as additional resources, are listed in the table in the README.md with additional details.\n",
      "\n",
      "We'll also be introducing [Basemap](http://matplotlib.org/basemap/) which is matplotlib's feature-rich geomapping toolkit, but which lacks the web-friendly and interactive features, as well as the user-friendliness, of the Folium collection. "
     ]
    },
    {
     "cell_type": "markdown",
     "metadata": {},
     "source": [
      "## Outline:\n",
      "1. Where are we?  Finding a point on a map.\n",
      "2. Visualizing US and World Data\n",
      "3. Heatmaps with BaseMap"
     ]
    },
    {
     "cell_type": "heading",
     "level": 2,
     "metadata": {},
     "source": [
      "1. Where are we?"
     ]
    },
    {
     "cell_type": "code",
     "collapsed": false,
     "input": [
      "# If not yet installed: \"pip install dstk\"; \"pip install folium\"\n",
      "import folium"
     ],
     "language": "python",
     "metadata": {},
     "outputs": []
    },
    {
     "cell_type": "code",
     "collapsed": false,
     "input": [
      "# Convert with DTSK\n",
      "import dstk\n",
      "# Setup dstk built-in IPython functionality (rather than CLI)\n",
      "dstk = dstk.DSTK()\n",
      "# Get starting coordinates\n",
      "addy = '10 East 21st Street, New York, NY'\n",
      "geodata = dstk.street2coordinates(addy)\n",
      "# Lots of info now in geodata dictionary, but we'll just take lat and long\n",
      "addy_long=geodata.get(addy).get('longitude')\n",
      "addy_lat=geodata.get(addy).get('latitude')"
     ],
     "language": "python",
     "metadata": {},
     "outputs": []
    },
    {
     "cell_type": "code",
     "collapsed": false,
     "input": [
      "# Get Lat/Long from an address\n"
     ],
     "language": "python",
     "metadata": {},
     "outputs": []
    },
    {
     "cell_type": "heading",
     "level": 4,
     "metadata": {},
     "source": [
      "Use [GeoPy](https://github.com/geopy/geopy) to locate coordinates for an address"
     ]
    },
    {
     "cell_type": "code",
     "collapsed": false,
     "input": [
      "# 'pip install geopy' if needed\n",
      "import geopy"
     ],
     "language": "python",
     "metadata": {},
     "outputs": []
    },
    {
     "cell_type": "code",
     "collapsed": false,
     "input": [],
     "language": "python",
     "metadata": {},
     "outputs": []
    },
    {
     "cell_type": "code",
     "collapsed": false,
     "input": [
      "# Make a folium map with a circle\n",
      "from geopy.geocoders import GoogleV3\n",
      "geolocator = GoogleV3()\n",
      "from IPython.display import HTML"
     ],
     "language": "python",
     "metadata": {},
     "outputs": []
    },
    {
     "cell_type": "code",
     "collapsed": false,
     "input": [
      "# Set address\n",
      "addy=\"10 East 21st Street, New York, NY\""
     ],
     "language": "python",
     "metadata": {},
     "outputs": []
    },
    {
     "cell_type": "code",
     "collapsed": false,
     "input": [
      "address, (latitude,longitude) = geolocator.geocode(addy)\n",
      "print(address, latitude, longitude)"
     ],
     "language": "python",
     "metadata": {},
     "outputs": []
    },
    {
     "cell_type": "markdown",
     "metadata": {},
     "source": [
      "#### Make a map\n",
      "_Note, code is exposed, rather than placed in appropriate DRY classes and fucntions, to provide clarity for demonstration purposes_\n",
      "\n",
      "Core concepts:\n",
      "* [tiles](http://wiki.openstreetmap.org/wiki/Tiles)"
     ]
    },
    {
     "cell_type": "code",
     "collapsed": false,
     "input": [
      "# Establish a map centered at lat/long, set \"tiles\" and zoom levels\n",
      "map_ourmap = folium.Map(location=[latitude,longitude],zoom_start=13,tiles='Stamen Toner')\n",
      "\n",
      "# Create circle marker around it.  Try map_ourmap? for additional functions in the \"Map\" class\n",
      "map_ourmap.circle_marker(location=[latitude,longitude],radius=200,fill_opacity=0.5,fill_color='#3186cc')\n",
      "\n",
      "# Make the map!\n",
      "map_ourmap.create_map(path='ourmap.html')\n",
      "\n",
      "# Display the map inline\n",
      "HTML('<iframe src=ourmap.html width=800 height = 500><iframe>')"
     ],
     "language": "python",
     "metadata": {},
     "outputs": []
    },
    {
     "cell_type": "code",
     "collapsed": false,
     "input": [],
     "language": "python",
     "metadata": {},
     "outputs": []
    },
    {
     "cell_type": "heading",
     "level": 2,
     "metadata": {},
     "source": [
      "2. Visualizing US and World Data -- Introduction to Chloropleths"
     ]
    },
    {
     "cell_type": "markdown",
     "metadata": {},
     "source": [
      "#### Example: State Unemployment Data\n",
      "Features: US States\n",
      "\n",
      "Choropleth = Choro (Area/Region) + Pleth (quantity)"
     ]
    },
    {
     "cell_type": "code",
     "collapsed": false,
     "input": [
      "# Get state shapes and state data\n",
      "state_geo = r'data/us-states.json'\n",
      "state_unemployment = r'data/US_Unemployment_Oct2012.csv'\n",
      "import pandas as pd\n",
      "state_data = pd.read_csv(state_unemployment)"
     ],
     "language": "python",
     "metadata": {},
     "outputs": []
    },
    {
     "cell_type": "code",
     "collapsed": false,
     "input": [
      "state_data.Unemployment.hist()"
     ],
     "language": "python",
     "metadata": {},
     "outputs": []
    },
    {
     "cell_type": "code",
     "collapsed": false,
     "input": [
      "# Make a map\n",
      "map = folium.Map(location=[48, -102], zoom_start=3)\n",
      "map.geo_json(geo_path=state_geo, data=state_data,\n",
      "             columns=['State', 'Unemployment'],\n",
      "             key_on='feature.id',\n",
      "             fill_color='RdPu', fill_opacity=0.65, line_opacity=0.5,\n",
      "             legend_name='Unemployment Rate (%)')\n",
      "map.create_map(path='us_states.html')"
     ],
     "language": "python",
     "metadata": {},
     "outputs": []
    },
    {
     "cell_type": "code",
     "collapsed": false,
     "input": [
      "# Display the map inline\n",
      "HTML('<iframe src=us_states.html width=1000 height = 500><iframe>')"
     ],
     "language": "python",
     "metadata": {},
     "outputs": []
    },
    {
     "cell_type": "markdown",
     "metadata": {},
     "source": [
      "#### Example: Inequality Adjusted Human Development Index\n",
      "Features: Countries of the World"
     ]
    },
    {
     "cell_type": "code",
     "collapsed": false,
     "input": [
      "# Get shapes and data\n",
      "world_geo = r'data/countries.geo.json'\n",
      "ihdi_data = r'data/ihdi.csv'\n",
      "import pandas as pd\n",
      "import numpy as np\n",
      "import matplotlib.pyplot as plt"
     ],
     "language": "python",
     "metadata": {},
     "outputs": []
    },
    {
     "cell_type": "code",
     "collapsed": false,
     "input": [
      "ihdi_data = pd.read_csv(ihdi_data)"
     ],
     "language": "python",
     "metadata": {},
     "outputs": []
    },
    {
     "cell_type": "code",
     "collapsed": false,
     "input": [
      "#Initialize a data frame\n",
      "df = pd.DataFrame()"
     ],
     "language": "python",
     "metadata": {},
     "outputs": []
    },
    {
     "cell_type": "code",
     "collapsed": false,
     "input": [
      "# Include two columns of interest:\n",
      "df[['Country','Loss']] = ihdi_data[['Country Code','2012 IHDI Overall Loss(%)']]"
     ],
     "language": "python",
     "metadata": {},
     "outputs": []
    },
    {
     "cell_type": "code",
     "collapsed": false,
     "input": [
      "# Set index to Country Code\n",
      "df.index = df['Country']"
     ],
     "language": "python",
     "metadata": {},
     "outputs": []
    },
    {
     "cell_type": "code",
     "collapsed": false,
     "input": [
      "# Remove rows where country is null\n",
      "df = df[pd.notnull(df['Country'])]"
     ],
     "language": "python",
     "metadata": {},
     "outputs": []
    },
    {
     "cell_type": "code",
     "collapsed": false,
     "input": [
      "# Convert string to float\n",
      "df.Loss = df.Loss.str.replace('%','')\n",
      "df.Loss = df.Loss.replace('..','NaN')\n",
      "df.Loss=df.Loss.astype('float64')"
     ],
     "language": "python",
     "metadata": {},
     "outputs": []
    },
    {
     "cell_type": "code",
     "collapsed": false,
     "input": [
      "a=df['Loss'].hist()\n",
      "a.set_title('Percent Loss due to Inequality: Distribution\\n')"
     ],
     "language": "python",
     "metadata": {},
     "outputs": []
    },
    {
     "cell_type": "code",
     "collapsed": false,
     "input": [
      "# Make a map\n",
      "map = folium.Map(location=[48, -102], zoom_start=2)\n",
      "map.geo_json(geo_path=world_geo, data=df,\n",
      "             columns=['Country','Loss'],\n",
      "             threshold_scale=[10,20,30,40,50],\n",
      "             key_on='feature.id',\n",
      "             fill_color='YlGnBu', fill_opacity=0.65, line_opacity=0.5,\n",
      "             legend_name='Development Loss due to Inequality')\n",
      "map.create_map(path='lossmap5.html')"
     ],
     "language": "python",
     "metadata": {},
     "outputs": []
    },
    {
     "cell_type": "code",
     "collapsed": false,
     "input": [
      "\n",
      "HTML('<iframe src=lossmap5.html width=1000 height = 500><iframe>')"
     ],
     "language": "python",
     "metadata": {},
     "outputs": []
    },
    {
     "cell_type": "code",
     "collapsed": false,
     "input": [],
     "language": "python",
     "metadata": {},
     "outputs": []
    },
    {
     "cell_type": "markdown",
     "metadata": {},
     "source": [
      "## 3. A Heatmap with Basemap"
     ]
    },
    {
     "cell_type": "code",
     "collapsed": false,
     "input": [
      "# Import our libraries\n",
      "from mpl_toolkits.basemap import Basemap, cm\n",
      "# requires netcdf4-python (netcdf4-python.googlecode.com)\n",
      "from netCDF4 import Dataset as NetCDFFile\n",
      "import numpy as np\n",
      "import matplotlib.pyplot as plt\n",
      "import pandas as pd"
     ],
     "language": "python",
     "metadata": {},
     "outputs": []
    },
    {
     "cell_type": "markdown",
     "metadata": {},
     "source": [
      "\n",
      "Network Common Data Form (NetCDF):\n",
      "\n",
      "NetCDF NetCDF is a set of software libraries and self-describing, machine-independent data formats that support the creation, access, and sharing of array-oriented scientific data."
     ]
    },
    {
     "cell_type": "code",
     "collapsed": false,
     "input": [
      "# plot rainfall from NWS using special precipitation\n",
      "# colormap used by the NWS, and included in basemap.\n",
      "nc = NetCDFFile('data/nws_precip_conus_20061222.nc')\n",
      "# data from http://water.weather.gov/precip/\n"
     ],
     "language": "python",
     "metadata": {},
     "outputs": []
    },
    {
     "cell_type": "code",
     "collapsed": false,
     "input": [
      "# Let's look at what we have here:\n",
      "nc.variables.keys()"
     ],
     "language": "python",
     "metadata": {},
     "outputs": []
    },
    {
     "cell_type": "code",
     "collapsed": false,
     "input": [],
     "language": "python",
     "metadata": {},
     "outputs": []
    },
    {
     "cell_type": "code",
     "collapsed": false,
     "input": [
      "# Format our data and our latlong\n",
      "prcpvar = nc.variables['amountofprecip']\n",
      "data = 0.01*prcpvar[:]\n",
      "latcorners = nc.variables['lat'][:]\n",
      "loncorners = -nc.variables['lon'][:]\n",
      "lon_0 = -nc.variables['true_lon'].getValue()\n",
      "lat_0 = nc.variables['true_lat'].getValue()"
     ],
     "language": "python",
     "metadata": {},
     "outputs": []
    },
    {
     "cell_type": "heading",
     "level": 4,
     "metadata": {},
     "source": [
      "Make our Map"
     ]
    },
    {
     "cell_type": "code",
     "collapsed": false,
     "input": [
      "\n",
      "# create figure and axes instances\n",
      "\n",
      "# Create our figure\n",
      "fig = plt.figure(figsize=(12,12))\n",
      "\n",
      "ax = fig.add_axes([0.1,0.1,0.8,0.8])\n",
      "\n",
      "\n",
      "# create polar stereographic Basemap instance.\n",
      "m = Basemap(projection='stere',lon_0=lon_0,lat_0=90.,lat_ts=lat_0,\\\n",
      "            llcrnrlat=latcorners[0],urcrnrlat=latcorners[2],\\\n",
      "            llcrnrlon=loncorners[0],urcrnrlon=loncorners[2],\\\n",
      "            rsphere=6371200.,resolution='l',area_thresh=10000)\n",
      "\n",
      "# draw coastlines, state and country boundaries, edge of map.\n",
      "#m.drawcoastlines()\n",
      "#m.drawstates()\n",
      "m.drawcountries()\n",
      "\n",
      "\n",
      "# draw parallels.\n",
      "#parallels = np.arange(0.,90,10.)\n",
      "#m.drawparallels(parallels,labels=[1,0,0,0],fontsize=10)\n",
      "\n",
      "\n",
      "# draw meridians\n",
      "#meridians = np.arange(180.,360.,10.)\n",
      "#m.drawmeridians(meridians,labels=[0,0,0,1],fontsize=10)\n",
      "\n",
      "ny = data.shape[0]; nx = data.shape[1]\n",
      "lons, lats = m.makegrid(nx, ny) # get lat/lons of ny by nx evenly space grid.\n",
      "x, y = m(lons, lats) # compute map proj coordinates.\n",
      "\n",
      "#Make it topographical\n",
      "#m.etopo()\n",
      "\n",
      "# draw filled contours using the basemap countours function\n",
      "clevs = [0,1,2.5,5,7.5,10,15,20,30,40,50,70,100,150,200,250,300,400,500,600,750]\n",
      "\n",
      "cs = m.contourf(x,y,data,clevs,cmap=cm.s3pcpn)\n",
      "\n",
      "\n",
      "# add colorbar.\n",
      "cbar = m.colorbar(cs,location='bottom',pad=\"5%\")\n",
      "cbar.set_label('mm')\n",
      "# add title\n",
      "plt.title(prcpvar.long_name+'\\n')\n",
      "# Add date to title: +' for period ending '+prcpvar.dateofdata+'\\n')\n",
      "plt.show()"
     ],
     "language": "python",
     "metadata": {},
     "outputs": []
    },
    {
     "cell_type": "code",
     "collapsed": false,
     "input": [],
     "language": "python",
     "metadata": {},
     "outputs": []
    }
   ],
   "metadata": {}
  }
 ]
}